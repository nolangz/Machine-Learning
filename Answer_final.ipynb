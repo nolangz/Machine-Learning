{
 "cells": [
  {
   "cell_type": "code",
   "execution_count": 25,
   "metadata": {},
   "outputs": [],
   "source": [
    "# Import Packages\n",
    "import os\n",
    "import numpy as np \n",
    "import pandas as pd\n",
    "import matplotlib.pyplot as plt\n",
    "import seaborn as sns\n",
    "import math\n",
    "from sklearn.metrics import accuracy_score, confusion_matrix\n",
    "from sklearn.linear_model import LinearRegression\n",
    "from sklearn.metrics import mean_squared_error\n",
    "from sklearn.preprocessing import PolynomialFeatures\n",
    "from sklearn.pipeline import Pipeline\n",
    "from sklearn.tree import DecisionTreeClassifier\n",
    "from sklearn.model_selection import train_test_split\n",
    "from sklearn import tree\n",
    "from sklearn.metrics import roc_auc_score\n",
    "from sklearn.metrics import roc_curve,auc"
   ]
  },
  {
   "cell_type": "markdown",
   "metadata": {},
   "source": [
    " Question 1：Linear Regression"
   ]
  },
  {
   "cell_type": "code",
   "execution_count": 26,
   "metadata": {},
   "outputs": [
    {
     "name": "stdout",
     "output_type": "stream",
     "text": [
      "revision_time    48.011\n",
      "exam_score       94.945\n",
      "dtype: float64\n",
      "revision_time     2.723\n",
      "exam_score       14.731\n",
      "dtype: float64\n"
     ]
    }
   ],
   "source": [
    "#load the dataset\n",
    "data_path = os.path.join(os.getcwd(),'data','regression_part1.csv')\n",
    "lineardata = pd.read_csv(data_path, delimiter = ','); \n",
    "print(lineardata.max())\n",
    "print(lineardata.min())"
   ]
  },
  {
   "cell_type": "markdown",
   "metadata": {},
   "source": [
    "(a)Information of data"
   ]
  },
  {
   "cell_type": "code",
   "execution_count": 27,
   "metadata": {},
   "outputs": [
    {
     "name": "stdout",
     "output_type": "stream",
     "text": [
      "<class 'pandas.core.frame.DataFrame'>\n",
      "RangeIndex: 50 entries, 0 to 49\n",
      "Data columns (total 2 columns):\n",
      "revision_time    50 non-null float64\n",
      "exam_score       50 non-null float64\n",
      "dtypes: float64(2)\n",
      "memory usage: 880.0 bytes\n"
     ]
    },
    {
     "data": {
      "text/html": [
       "<div>\n",
       "<style scoped>\n",
       "    .dataframe tbody tr th:only-of-type {\n",
       "        vertical-align: middle;\n",
       "    }\n",
       "\n",
       "    .dataframe tbody tr th {\n",
       "        vertical-align: top;\n",
       "    }\n",
       "\n",
       "    .dataframe thead th {\n",
       "        text-align: right;\n",
       "    }\n",
       "</style>\n",
       "<table border=\"1\" class=\"dataframe\">\n",
       "  <thead>\n",
       "    <tr style=\"text-align: right;\">\n",
       "      <th></th>\n",
       "      <th>revision_time</th>\n",
       "      <th>exam_score</th>\n",
       "    </tr>\n",
       "  </thead>\n",
       "  <tbody>\n",
       "    <tr>\n",
       "      <th>0</th>\n",
       "      <td>2.723</td>\n",
       "      <td>27.682</td>\n",
       "    </tr>\n",
       "    <tr>\n",
       "      <th>1</th>\n",
       "      <td>2.844</td>\n",
       "      <td>22.998</td>\n",
       "    </tr>\n",
       "    <tr>\n",
       "      <th>2</th>\n",
       "      <td>3.303</td>\n",
       "      <td>19.765</td>\n",
       "    </tr>\n",
       "    <tr>\n",
       "      <th>3</th>\n",
       "      <td>3.588</td>\n",
       "      <td>24.481</td>\n",
       "    </tr>\n",
       "    <tr>\n",
       "      <th>4</th>\n",
       "      <td>4.050</td>\n",
       "      <td>22.974</td>\n",
       "    </tr>\n",
       "    <tr>\n",
       "      <th>5</th>\n",
       "      <td>4.080</td>\n",
       "      <td>27.086</td>\n",
       "    </tr>\n",
       "    <tr>\n",
       "      <th>6</th>\n",
       "      <td>5.674</td>\n",
       "      <td>26.136</td>\n",
       "    </tr>\n",
       "    <tr>\n",
       "      <th>7</th>\n",
       "      <td>6.060</td>\n",
       "      <td>27.038</td>\n",
       "    </tr>\n",
       "    <tr>\n",
       "      <th>8</th>\n",
       "      <td>6.347</td>\n",
       "      <td>31.283</td>\n",
       "    </tr>\n",
       "    <tr>\n",
       "      <th>9</th>\n",
       "      <td>6.819</td>\n",
       "      <td>14.731</td>\n",
       "    </tr>\n",
       "    <tr>\n",
       "      <th>10</th>\n",
       "      <td>7.098</td>\n",
       "      <td>28.946</td>\n",
       "    </tr>\n",
       "    <tr>\n",
       "      <th>11</th>\n",
       "      <td>7.515</td>\n",
       "      <td>26.901</td>\n",
       "    </tr>\n",
       "    <tr>\n",
       "      <th>12</th>\n",
       "      <td>8.356</td>\n",
       "      <td>35.299</td>\n",
       "    </tr>\n",
       "    <tr>\n",
       "      <th>13</th>\n",
       "      <td>9.214</td>\n",
       "      <td>24.228</td>\n",
       "    </tr>\n",
       "    <tr>\n",
       "      <th>14</th>\n",
       "      <td>10.364</td>\n",
       "      <td>34.651</td>\n",
       "    </tr>\n",
       "    <tr>\n",
       "      <th>15</th>\n",
       "      <td>10.510</td>\n",
       "      <td>34.667</td>\n",
       "    </tr>\n",
       "    <tr>\n",
       "      <th>16</th>\n",
       "      <td>12.102</td>\n",
       "      <td>34.848</td>\n",
       "    </tr>\n",
       "    <tr>\n",
       "      <th>17</th>\n",
       "      <td>13.187</td>\n",
       "      <td>37.266</td>\n",
       "    </tr>\n",
       "    <tr>\n",
       "      <th>18</th>\n",
       "      <td>16.692</td>\n",
       "      <td>43.491</td>\n",
       "    </tr>\n",
       "    <tr>\n",
       "      <th>19</th>\n",
       "      <td>16.977</td>\n",
       "      <td>45.201</td>\n",
       "    </tr>\n",
       "    <tr>\n",
       "      <th>20</th>\n",
       "      <td>18.330</td>\n",
       "      <td>40.924</td>\n",
       "    </tr>\n",
       "    <tr>\n",
       "      <th>21</th>\n",
       "      <td>19.599</td>\n",
       "      <td>48.321</td>\n",
       "    </tr>\n",
       "    <tr>\n",
       "      <th>22</th>\n",
       "      <td>20.321</td>\n",
       "      <td>49.574</td>\n",
       "    </tr>\n",
       "    <tr>\n",
       "      <th>23</th>\n",
       "      <td>21.280</td>\n",
       "      <td>47.239</td>\n",
       "    </tr>\n",
       "    <tr>\n",
       "      <th>24</th>\n",
       "      <td>21.578</td>\n",
       "      <td>45.582</td>\n",
       "    </tr>\n",
       "    <tr>\n",
       "      <th>25</th>\n",
       "      <td>21.798</td>\n",
       "      <td>53.182</td>\n",
       "    </tr>\n",
       "    <tr>\n",
       "      <th>26</th>\n",
       "      <td>22.048</td>\n",
       "      <td>39.956</td>\n",
       "    </tr>\n",
       "    <tr>\n",
       "      <th>27</th>\n",
       "      <td>24.949</td>\n",
       "      <td>52.697</td>\n",
       "    </tr>\n",
       "    <tr>\n",
       "      <th>28</th>\n",
       "      <td>25.147</td>\n",
       "      <td>54.900</td>\n",
       "    </tr>\n",
       "    <tr>\n",
       "      <th>29</th>\n",
       "      <td>26.495</td>\n",
       "      <td>66.065</td>\n",
       "    </tr>\n",
       "    <tr>\n",
       "      <th>30</th>\n",
       "      <td>26.535</td>\n",
       "      <td>60.068</td>\n",
       "    </tr>\n",
       "    <tr>\n",
       "      <th>31</th>\n",
       "      <td>28.687</td>\n",
       "      <td>65.432</td>\n",
       "    </tr>\n",
       "    <tr>\n",
       "      <th>32</th>\n",
       "      <td>29.055</td>\n",
       "      <td>47.340</td>\n",
       "    </tr>\n",
       "    <tr>\n",
       "      <th>33</th>\n",
       "      <td>31.043</td>\n",
       "      <td>66.051</td>\n",
       "    </tr>\n",
       "    <tr>\n",
       "      <th>34</th>\n",
       "      <td>32.176</td>\n",
       "      <td>62.916</td>\n",
       "    </tr>\n",
       "    <tr>\n",
       "      <th>35</th>\n",
       "      <td>32.203</td>\n",
       "      <td>62.892</td>\n",
       "    </tr>\n",
       "    <tr>\n",
       "      <th>36</th>\n",
       "      <td>32.226</td>\n",
       "      <td>52.066</td>\n",
       "    </tr>\n",
       "    <tr>\n",
       "      <th>37</th>\n",
       "      <td>32.268</td>\n",
       "      <td>75.787</td>\n",
       "    </tr>\n",
       "    <tr>\n",
       "      <th>38</th>\n",
       "      <td>32.711</td>\n",
       "      <td>71.807</td>\n",
       "    </tr>\n",
       "    <tr>\n",
       "      <th>39</th>\n",
       "      <td>32.886</td>\n",
       "      <td>63.339</td>\n",
       "    </tr>\n",
       "    <tr>\n",
       "      <th>40</th>\n",
       "      <td>34.489</td>\n",
       "      <td>59.794</td>\n",
       "    </tr>\n",
       "    <tr>\n",
       "      <th>41</th>\n",
       "      <td>34.889</td>\n",
       "      <td>63.983</td>\n",
       "    </tr>\n",
       "    <tr>\n",
       "      <th>42</th>\n",
       "      <td>37.299</td>\n",
       "      <td>68.714</td>\n",
       "    </tr>\n",
       "    <tr>\n",
       "      <th>43</th>\n",
       "      <td>40.875</td>\n",
       "      <td>70.767</td>\n",
       "    </tr>\n",
       "    <tr>\n",
       "      <th>44</th>\n",
       "      <td>41.249</td>\n",
       "      <td>88.973</td>\n",
       "    </tr>\n",
       "    <tr>\n",
       "      <th>45</th>\n",
       "      <td>45.213</td>\n",
       "      <td>76.957</td>\n",
       "    </tr>\n",
       "    <tr>\n",
       "      <th>46</th>\n",
       "      <td>45.397</td>\n",
       "      <td>78.698</td>\n",
       "    </tr>\n",
       "    <tr>\n",
       "      <th>47</th>\n",
       "      <td>46.923</td>\n",
       "      <td>90.384</td>\n",
       "    </tr>\n",
       "    <tr>\n",
       "      <th>48</th>\n",
       "      <td>47.818</td>\n",
       "      <td>94.945</td>\n",
       "    </tr>\n",
       "    <tr>\n",
       "      <th>49</th>\n",
       "      <td>48.011</td>\n",
       "      <td>86.968</td>\n",
       "    </tr>\n",
       "  </tbody>\n",
       "</table>\n",
       "</div>"
      ],
      "text/plain": [
       "    revision_time  exam_score\n",
       "0           2.723      27.682\n",
       "1           2.844      22.998\n",
       "2           3.303      19.765\n",
       "3           3.588      24.481\n",
       "4           4.050      22.974\n",
       "5           4.080      27.086\n",
       "6           5.674      26.136\n",
       "7           6.060      27.038\n",
       "8           6.347      31.283\n",
       "9           6.819      14.731\n",
       "10          7.098      28.946\n",
       "11          7.515      26.901\n",
       "12          8.356      35.299\n",
       "13          9.214      24.228\n",
       "14         10.364      34.651\n",
       "15         10.510      34.667\n",
       "16         12.102      34.848\n",
       "17         13.187      37.266\n",
       "18         16.692      43.491\n",
       "19         16.977      45.201\n",
       "20         18.330      40.924\n",
       "21         19.599      48.321\n",
       "22         20.321      49.574\n",
       "23         21.280      47.239\n",
       "24         21.578      45.582\n",
       "25         21.798      53.182\n",
       "26         22.048      39.956\n",
       "27         24.949      52.697\n",
       "28         25.147      54.900\n",
       "29         26.495      66.065\n",
       "30         26.535      60.068\n",
       "31         28.687      65.432\n",
       "32         29.055      47.340\n",
       "33         31.043      66.051\n",
       "34         32.176      62.916\n",
       "35         32.203      62.892\n",
       "36         32.226      52.066\n",
       "37         32.268      75.787\n",
       "38         32.711      71.807\n",
       "39         32.886      63.339\n",
       "40         34.489      59.794\n",
       "41         34.889      63.983\n",
       "42         37.299      68.714\n",
       "43         40.875      70.767\n",
       "44         41.249      88.973\n",
       "45         45.213      76.957\n",
       "46         45.397      78.698\n",
       "47         46.923      90.384\n",
       "48         47.818      94.945\n",
       "49         48.011      86.968"
      ]
     },
     "execution_count": 27,
     "metadata": {},
     "output_type": "execute_result"
    }
   ],
   "source": [
    "lineardata.info()\n",
    "lineardata.head(50)\n"
   ]
  },
  {
   "cell_type": "code",
   "execution_count": 28,
   "metadata": {},
   "outputs": [
    {
     "data": {
      "text/plain": [
       "(50, 2)"
      ]
     },
     "execution_count": 28,
     "metadata": {},
     "output_type": "execute_result"
    }
   ],
   "source": [
    "lineardata.shape"
   ]
  },
  {
   "cell_type": "markdown",
   "metadata": {},
   "source": [
    "(b)Linear Regression model from sklearn"
   ]
  },
  {
   "cell_type": "code",
   "execution_count": 29,
   "metadata": {},
   "outputs": [
    {
     "name": "stdout",
     "output_type": "stream",
     "text": [
      "<bound method RegressorMixin.score of LinearRegression(copy_X=True, fit_intercept=False, n_jobs=None, normalize=False)>\n"
     ]
    }
   ],
   "source": [
    "lineardatax1 = lineardata['revision_time']\n",
    "a=np.ones((50,1))\n",
    "lineardatax = np.c_[a,lineardatax1]\n",
    "lineardatay = lineardata['exam_score']\n",
    "reg = LinearRegression(fit_intercept=False)\n",
    "reg.fit(lineardatax,lineardatay)\n",
    "reg.score(lineardatax,lineardatay)\n",
    "pred_y=reg.predict(lineardatax)\n",
    "print(reg.score)"
   ]
  },
  {
   "cell_type": "code",
   "execution_count": 30,
   "metadata": {},
   "outputs": [
    {
     "data": {
      "text/plain": [
       "array([17.89768026,  1.44114091])"
      ]
     },
     "execution_count": 30,
     "metadata": {},
     "output_type": "execute_result"
    }
   ],
   "source": [
    "reg.coef_"
   ]
  },
  {
   "cell_type": "markdown",
   "metadata": {},
   "source": [
    "plot data"
   ]
  },
  {
   "cell_type": "code",
   "execution_count": 31,
   "metadata": {
    "scrolled": true
   },
   "outputs": [
    {
     "data": {
      "image/png": "[encoded data removed]",
      "text/plain": [
       "<Figure size 432x288 with 1 Axes>"
      ]
     },
     "metadata": {
      "needs_background": "light"
     },
     "output_type": "display_data"
    }
   ],
   "source": [
    "plt.scatter(lineardatax1,lineardatay,color='black',label='raw data')\n",
    "plt.plot(lineardatax1,pred_y,color='blue',linewidth=3,label='regression')\n",
    "\n",
    "plt.ylabel('exam_score')\n",
    "plt.xlabel('revision_time')\n",
    "plt.title('Linear regression')\n",
    "plt.legend(loc=\"lower right\")\n",
    "\n",
    "plt.show()"
   ]
  },
  {
   "cell_type": "markdown",
   "metadata": {},
   "source": [
    "compute w by numpy"
   ]
  },
  {
   "cell_type": "code",
   "execution_count": 32,
   "metadata": {},
   "outputs": [
    {
     "name": "stdout",
     "output_type": "stream",
     "text": [
      "[17.89768026  1.44114091]\n",
      "[21.82190694 21.99628499 22.65776867 23.06849383 23.73430093 23.77753515\n",
      " 26.07471376 26.63099415 27.04460159 27.72482009 28.12689841 28.72785416\n",
      " 29.93985366 31.17635256 32.8336646  33.04407117 35.3383675  36.90200538\n",
      " 41.95320425 42.36392941 44.31379306 46.14260086 47.1831046  48.56515873\n",
      " 48.99461872 49.31166972 49.67195494 53.85270471 54.13805061 56.08070855\n",
      " 56.13835418 59.23968941 59.77002927 62.63501739 64.26783003 64.30674084\n",
      " 64.33988708 64.400415   65.03884042 65.29104007 67.60118895 68.17764531\n",
      " 71.65079489 76.80431477 77.34330147 83.05598402 83.32115394 85.52033496\n",
      " 86.81015607 87.08829627]\n"
     ]
    }
   ],
   "source": [
    "b=np.linalg.inv(lineardatax.T.dot(lineardatax))\n",
    "w2=b.dot(lineardatax.T.dot(lineardatay))\n",
    "print(w2)\n",
    "pred_y2=w2.dot(lineardatax.T)\n",
    "print(pred_y2)"
   ]
  },
  {
   "cell_type": "markdown",
   "metadata": {},
   "source": [
    "MSE evaluation for two prediction"
   ]
  },
  {
   "cell_type": "markdown",
   "metadata": {},
   "source": []
  },
  {
   "cell_type": "code",
   "execution_count": 33,
   "metadata": {},
   "outputs": [
    {
     "name": "stdout",
     "output_type": "stream",
     "text": [
      "30.9854726145413\n",
      "1.4210854715202004e-14\n"
     ]
    }
   ],
   "source": [
    "MSE1=mean_squared_error(lineardatay,pred_y)\n",
    "MSE2=mean_squared_error(lineardatay,pred_y2)\n",
    "print(MSE1)\n",
    "d=MSE1-MSE2\n",
    "print(d)"
   ]
  },
  {
   "cell_type": "markdown",
   "metadata": {},
   "source": [
    "plot MSE-w1"
   ]
  },
  {
   "cell_type": "code",
   "execution_count": 34,
   "metadata": {
    "scrolled": true
   },
   "outputs": [
    {
     "name": "stdout",
     "output_type": "stream",
     "text": [
      "32.48096161535148\n",
      "1.3535353535353538\n"
     ]
    },
    {
     "data": {
      "image/png": "[encoded data removed]",
      "text/plain": [
       "<Figure size 432x288 with 1 Axes>"
      ]
     },
     "metadata": {
      "needs_background": "light"
     },
     "output_type": "display_data"
    }
   ],
   "source": [
    "w1=np.linspace(-2,2,100).tolist()\n",
    "m=None\n",
    "for n in w1:\n",
    "    pred_y1 = 20+n*lineardatax1\n",
    "    MSE=mean_squared_error(lineardatay,pred_y1).tolist()\n",
    "    m=np.append(m,MSE,axis=None)\n",
    "m=np.delete(m,0,axis=0)\n",
    "print(min(m))\n",
    "c=np.argmin(m)\n",
    "print(w1[c])\n",
    "plt.plot(w1,m,color='red',linewidth=3)\n",
    "\n",
    "plt.xlabel('w1')\n",
    "plt.ylabel('MSE')\n",
    "\n",
    "plt.show()"
   ]
  },
  {
   "cell_type": "code",
   "execution_count": 35,
   "metadata": {},
   "outputs": [
    {
     "data": {
      "image/png": "[encoded data removed]",
      "text/plain": [
       "<Figure size 432x288 with 1 Axes>"
      ]
     },
     "metadata": {
      "needs_background": "light"
     },
     "output_type": "display_data"
    }
   ],
   "source": [
    "plt.scatter(lineardatax1,lineardatay,color='black',label='raw data')\n",
    "plt.plot(lineardatax1,pred_y,color='blue',linewidth=3,label='linear regression')\n",
    "plt.plot(lineardatax1,pred_y1,color='red',linewidth=3,label='w0=20,MSE min')\n",
    "\n",
    "plt.ylabel('exam_score')\n",
    "plt.xlabel('revision_time')\n",
    "plt.title('Linear regression')\n",
    "plt.legend(loc=\"lower right\")\n",
    "plt.show()"
   ]
  },
  {
   "cell_type": "markdown",
   "metadata": {},
   "source": [
    "this value is not to be expected. Using minimum MSE to find the weight of linear regression will deviate from the expected regression in large scale when trainning data point distribution is mainly located in some area."
   ]
  },
  {
   "cell_type": "markdown",
   "metadata": {},
   "source": [
    "Nonlinear Regression"
   ]
  },
  {
   "cell_type": "code",
   "execution_count": 36,
   "metadata": {},
   "outputs": [],
   "source": [
    "data_path = os.path.join(os.getcwd(),'data','regression_part2.csv')\n",
    "nonlineardata = pd.read_csv(data_path, delimiter = ',')\n",
    "nonlineardataxy = np.asarray(nonlineardata)\n",
    "nonlineardata_s = nonlineardataxy[np.lexsort(nonlineardataxy[:,::-1].T)]"
   ]
  },
  {
   "cell_type": "code",
   "execution_count": 37,
   "metadata": {},
   "outputs": [
    {
     "data": {
      "text/html": [
       "<div>\n",
       "<style scoped>\n",
       "    .dataframe tbody tr th:only-of-type {\n",
       "        vertical-align: middle;\n",
       "    }\n",
       "\n",
       "    .dataframe tbody tr th {\n",
       "        vertical-align: top;\n",
       "    }\n",
       "\n",
       "    .dataframe thead th {\n",
       "        text-align: right;\n",
       "    }\n",
       "</style>\n",
       "<table border=\"1\" class=\"dataframe\">\n",
       "  <thead>\n",
       "    <tr style=\"text-align: right;\">\n",
       "      <th></th>\n",
       "      <th>input</th>\n",
       "      <th>output</th>\n",
       "    </tr>\n",
       "  </thead>\n",
       "  <tbody>\n",
       "    <tr>\n",
       "      <th>0</th>\n",
       "      <td>2.728</td>\n",
       "      <td>9.088</td>\n",
       "    </tr>\n",
       "    <tr>\n",
       "      <th>1</th>\n",
       "      <td>3.244</td>\n",
       "      <td>12.786</td>\n",
       "    </tr>\n",
       "    <tr>\n",
       "      <th>2</th>\n",
       "      <td>-4.164</td>\n",
       "      <td>-10.016</td>\n",
       "    </tr>\n",
       "    <tr>\n",
       "      <th>3</th>\n",
       "      <td>4.875</td>\n",
       "      <td>32.976</td>\n",
       "    </tr>\n",
       "    <tr>\n",
       "      <th>4</th>\n",
       "      <td>3.329</td>\n",
       "      <td>10.437</td>\n",
       "    </tr>\n",
       "  </tbody>\n",
       "</table>\n",
       "</div>"
      ],
      "text/plain": [
       "   input  output\n",
       "0  2.728   9.088\n",
       "1  3.244  12.786\n",
       "2 -4.164 -10.016\n",
       "3  4.875  32.976\n",
       "4  3.329  10.437"
      ]
     },
     "execution_count": 37,
     "metadata": {},
     "output_type": "execute_result"
    }
   ],
   "source": [
    "nonlineardata_s.shape\n",
    "nonlineardata.head()"
   ]
  },
  {
   "cell_type": "code",
   "execution_count": 38,
   "metadata": {},
   "outputs": [
    {
     "data": {
      "text/plain": [
       "<matplotlib.collections.PathCollection at 0x7fee9356ad90>"
      ]
     },
     "execution_count": 38,
     "metadata": {},
     "output_type": "execute_result"
    },
    {
     "data": {
      "image/png": "[encoded data removed]",
      "text/plain": [
       "<Figure size 432x288 with 1 Axes>"
      ]
     },
     "metadata": {
      "needs_background": "light"
     },
     "output_type": "display_data"
    }
   ],
   "source": [
    "o=np.ones((25,1))\n",
    "nonlinearx0=nonlineardata_s[:,0]\n",
    "nonlineary = nonlineardata_s[:,1]\n",
    "nonlinearx1 = np.c_[o,nonlinearx0]\n",
    "for n in range(1,5):\n",
    "    poly = PolynomialFeatures(n,interaction_only=False,include_bias=False)\n",
    "    x_fit=poly.fit_transform(nonlinearx1)\n",
    "    nonreg = LinearRegression(fit_intercept=False)\n",
    "    nonreg.fit(x_fit,nonlineary)\n",
    "    non_w=nonreg.coef_\n",
    "    nonpred_y=nonreg.predict(x_fit)\n",
    "    m1=None\n",
    "    nonMSE=mean_squared_error(nonlineary,nonpred_y).tolist()\n",
    "    m1=np.append(m1,nonMSE,axis=None)\n",
    "    m1=np.delete(m1,0,axis=0).T\n",
    "    if n==1:\n",
    "        plt.plot(nonlinearx0,nonpred_y,color='red',linewidth=2,label='M=1')\n",
    "    if n==2:\n",
    "        plt.plot(nonlinearx0,nonpred_y,color='blue',linewidth=2,label='M=2')\n",
    "    if n==3:\n",
    "        plt.plot(nonlinearx0,nonpred_y,color='Magenta',linewidth=2,label='M=3')\n",
    "    if n==4:\n",
    "        plt.plot(nonlinearx0,nonpred_y,color='green',linewidth=2,label='M=4')\n",
    "plt.ylabel('output')\n",
    "plt.xlabel('input')\n",
    "plt.title('Non-Linear regression-poly')\n",
    "plt.legend(loc=\"lower right\")\n",
    "plt.scatter(nonlinearx0,nonlineary,color='black')"
   ]
  },
  {
   "cell_type": "markdown",
   "metadata": {},
   "source": [
    "bar plot for MSE"
   ]
  },
  {
   "cell_type": "code",
   "execution_count": 39,
   "metadata": {
    "scrolled": true
   },
   "outputs": [
    {
     "data": {
      "image/png": "[encoded data removed]",
      "text/plain": [
       "<Figure size 432x288 with 1 Axes>"
      ]
     },
     "metadata": {
      "needs_background": "light"
     },
     "output_type": "display_data"
    }
   ],
   "source": [
    "fig,ax = plt.subplots()\n",
    "M=np.arange(4)\n",
    "y=[24.744378032672856,17.352926937873296,2.7447567192524263,2.7389111790755383]\n",
    "plt.bar(M,y)\n",
    "ax.set_ylim(0,30)\n",
    "plt.xticks(M,('M=1','M=2','M=3','M=4'))\n",
    "plt.title('MSE for different M')\n",
    "plt.show()"
   ]
  },
  {
   "cell_type": "markdown",
   "metadata": {},
   "source": [
    "comment on M=3 and M=4\n",
    "Both of fit result and Mean Squared Error are almost in the same performance with tiny difference.\n",
    "In the figure, we can't distinct any different between M=3 and M=4. But we will find the difference when look at every data point in detial.Also, MSE of M=4 is a little smaller than M=3.\n",
    "Generally, I would say both of M=3 and M=4 are have a great performance on trainning data. But I will choose M=3 for general prediction. Because M=4 is a more complicate model. When outliers is in the trainning data, M=4 model will have overreaction and will not be a expected model."
   ]
  },
  {
   "cell_type": "markdown",
   "metadata": {},
   "source": [
    "regression with RBF"
   ]
  },
  {
   "cell_type": "code",
   "execution_count": 40,
   "metadata": {},
   "outputs": [
    {
     "data": {
      "text/plain": [
       "<matplotlib.collections.PathCollection at 0x7fee92c69dd0>"
      ]
     },
     "execution_count": 40,
     "metadata": {},
     "output_type": "execute_result"
    },
    {
     "data": {
      "image/png": "[encoded data removed]",
      "text/plain": [
       "<Figure size 432x288 with 1 Axes>"
      ]
     },
     "metadata": {
      "needs_background": "light"
     },
     "output_type": "display_data"
    }
   ],
   "source": [
    "for n in range(1,4):\n",
    "    phi=np.zeros((25,4))\n",
    "    if n==1:\n",
    "        alpha=0.2\n",
    "    if n==2:\n",
    "        alpha=100\n",
    "    if n==3:\n",
    "        alpha=1000\n",
    "        \n",
    "    for i in range(0,25):\n",
    "        for j in range(0,4):\n",
    "            if j==0:\n",
    "                c=-4.0\n",
    "            if j==1:\n",
    "                c=-2.0\n",
    "            if j==2:\n",
    "                c=2.0\n",
    "            if j==3:\n",
    "                c=4.0\n",
    "            phi[i][j]=np.exp(-0.5*(nonlinearx0[i]-c)*(nonlinearx0[i]-c)/(alpha*alpha))\n",
    "    phi0=np.c_[o,phi]\n",
    "    rbfreg=LinearRegression(fit_intercept=False)\n",
    "    rbfreg.fit(phi0,nonlineary)\n",
    "    w_rbf=rbfreg.coef_\n",
    "    rbfpred_y=rbfreg.predict(phi0)\n",
    "    if n==1:\n",
    "        plt.plot(nonlinearx0,rbfpred_y,color='red',linewidth=2,label='alpha=0.2')\n",
    "    if n==2:\n",
    "        plt.plot(nonlinearx0,rbfpred_y,color='blue',linewidth=2,label='alpha=100')\n",
    "    if n==3:\n",
    "        plt.plot(nonlinearx0,rbfpred_y,color='orange',linewidth=2,label='alpha=1000')\n",
    "    \n",
    "plt.ylabel('output')\n",
    "plt.xlabel('input')\n",
    "plt.title('NonLinear-RBF ')\n",
    "plt.legend(loc='lower right')\n",
    "plt.scatter(nonlinearx0,nonlineary,color='black')"
   ]
  },
  {
   "cell_type": "markdown",
   "metadata": {},
   "source": [
    "Comment on the impact of \n"
   ]
  },
  {
   "cell_type": "markdown",
   "metadata": {},
   "source": [
    "Decision Trees"
   ]
  },
  {
   "cell_type": "code",
   "execution_count": 41,
   "metadata": {},
   "outputs": [
    {
     "name": "stdout",
     "output_type": "stream",
     "text": [
      "(4800, 137)\n",
      "(1200, 137)\n"
     ]
    }
   ],
   "source": [
    "data_path1 = os.path.join(os.getcwd(),'data','faces_train_data.csv')\n",
    "facetrain = pd.read_csv(data_path1, delimiter = ','); \n",
    "data_path2 = os.path.join(os.getcwd(),'data','faces_test_data.csv')\n",
    "facetest = pd.read_csv(data_path2, delimiter = ',');\n",
    "\n",
    "print(facetrain.shape)\n",
    "print(facetest.shape)"
   ]
  },
  {
   "cell_type": "code",
   "execution_count": 42,
   "metadata": {
    "scrolled": true
   },
   "outputs": [
    {
     "name": "stdout",
     "output_type": "stream",
     "text": [
      "3.92\n",
      "3.9010000000000002\n",
      "-3.9789999999999996\n",
      "-3.846\n"
     ]
    },
    {
     "data": {
      "text/plain": [
       "<matplotlib.legend.Legend at 0x7fee93e5d050>"
      ]
     },
     "execution_count": 42,
     "metadata": {},
     "output_type": "execute_result"
    },
    {
     "data": {
      "image/png": "[encoded data removed]",
      "text/plain": [
       "<Figure size 432x288 with 1 Axes>"
      ]
     },
     "metadata": {
      "needs_background": "light"
     },
     "output_type": "display_data"
    }
   ],
   "source": [
    "facetrain=np.asarray(facetrain)\n",
    "facetest=np.asarray(facetest)\n",
    "print(facetrain.max())\n",
    "print(facetest.max())\n",
    "print(facetrain.min())\n",
    "print(facetest.min())\n",
    "train_result=facetrain[:,136]\n",
    "test_result=facetest[:,136]\n",
    "train_data=np.delete(facetrain,136,axis=1)\n",
    "test_data=np.delete(facetest,136,axis=1)\n",
    "train_T=train_data[np.where(train_result==1)]\n",
    "train_F=train_data[np.where(train_result==0)]\n",
    "smile_mean=np.mean(train_T,axis=0)\n",
    "nonsmile_mean=np.mean(train_F,axis=0)\n",
    "smile_mean=smile_mean.reshape(68,2)\n",
    "nonsmile_mean=nonsmile_mean.reshape(68,2)\n",
    "x_smile=smile_mean[:,0]\n",
    "y_smile=smile_mean[:,1]\n",
    "y_nonsmile=nonsmile_mean[:,1]\n",
    "x_nonsmile=nonsmile_mean[:,0]\n",
    "plt.scatter(x_smile,y_smile,color='red',linewidth=2,label='smile')\n",
    "plt.scatter(x_nonsmile,y_nonsmile,color='blue',linewidth=2,label='not_smile')\n",
    "plt.ylabel('y')\n",
    "plt.xlabel('x')\n",
    "plt.title('face-smile or not')\n",
    "plt.legend(loc=\"lower right\")"
   ]
  },
  {
   "cell_type": "markdown",
   "metadata": {},
   "source": [
    "b) profil of face, jaw, eyes, eyebrow, nose and mouth are described by a serious of 2-D point. The main different between smiling and not smiling is the edge of jaw,mouth and some part of nose and eyebrow."
   ]
  },
  {
   "cell_type": "markdown",
   "metadata": {},
   "source": [
    "c)The measurement of purity at node that DecisionTreeClassifier in sklearn use for is Gini index. The advantage of using Gini compared to entroy is Gini will have a faster runing efficiency because entroy use log function but gini don't."
   ]
  },
  {
   "cell_type": "markdown",
   "metadata": {},
   "source": [
    "d)small values:will be underfit to the real world. Complexity of the model will be low. only some of the attributes are considered in this model, which will be not powerful enough to capture salient patterns in data. So the error rate in both train data and test data will be high also.\n",
    "large number:\n",
    "1.will be overfitting to the real world. Complexity of the model will be high, some noise or outliers in train data will impact the model badly.\n",
    "2.large depth of the tree also make some of the node contain 1 example and this singleton is pure， which will mislead the model.patterns of train data will not re-appear."
   ]
  },
  {
   "cell_type": "code",
   "execution_count": 43,
   "metadata": {},
   "outputs": [
    {
     "name": "stdout",
     "output_type": "stream",
     "text": [
      "train accuracy 0.7947916666666667\n",
      "test accuracy 0.7816666666666666\n",
      "2\n",
      "train accuracy 0.9335416666666667\n",
      "test accuracy 0.8408333333333333\n",
      "8\n",
      "train accuracy 1.0\n",
      "test accuracy 0.815\n",
      "17\n"
     ]
    }
   ],
   "source": [
    "for n in[2,8,20]:\n",
    "    de_tree=DecisionTreeClassifier(max_depth=n,random_state=2001)\n",
    "    de_tree.fit(train_data,train_result)\n",
    "    y_pred=de_tree.predict(train_data)\n",
    "    print('train accuracy',accuracy_score(train_result, y_pred))\n",
    "    y_pred=de_tree.predict(test_data)\n",
    "    print('test accuracy',accuracy_score(test_result, y_pred))\n",
    "    print(de_tree.get_depth())"
   ]
  },
  {
   "cell_type": "code",
   "execution_count": 44,
   "metadata": {},
   "outputs": [
    {
     "data": {
      "text/plain": [
       "y7     0.035544\n",
       "y8     0.032754\n",
       "y29    0.088314\n",
       "y32    0.017424\n",
       "y48    0.089959\n",
       "x49    0.042056\n",
       "x50    0.330405\n",
       "x53    0.087376\n",
       "y53    0.017377\n",
       "x54    0.012057\n",
       "x60    0.031959\n",
       "y62    0.012946\n",
       "x64    0.019646\n",
       "y64    0.024446\n",
       "dtype: float64"
      ]
     },
     "metadata": {},
     "output_type": "display_data"
    },
    {
     "name": "stdout",
     "output_type": "stream",
     "text": [
      "<class 'tuple'>\n"
     ]
    }
   ],
   "source": [
    "de_tree=DecisionTreeClassifier(max_depth=8,random_state=2001)\n",
    "de_tree.fit(train_data,train_result)\n",
    "y_pred=de_tree.predict(train_data)\n",
    "data_path11 = os.path.join(os.getcwd(),'data','faces_train_data.csv')\n",
    "face11 = pd.read_csv(data_path1, delimiter = ','); \n",
    "face11.drop(['smiling'],axis=1,inplace=True)\n",
    "importance_feature=pd.Series(data=de_tree.feature_importances_,index=face11.columns)\n",
    "display(importance_feature[importance_feature>0.01])\n",
    "#x50=0.330405,y48=0.089959,y29=0.088314\n",
    "print(type(de_tree.feature_importances_.shape))"
   ]
  },
  {
   "cell_type": "markdown",
   "metadata": {},
   "source": [
    "Question 4"
   ]
  },
  {
   "cell_type": "code",
   "execution_count": 45,
   "metadata": {},
   "outputs": [
    {
     "data": {
      "text/html": [
       "<div>\n",
       "<style scoped>\n",
       "    .dataframe tbody tr th:only-of-type {\n",
       "        vertical-align: middle;\n",
       "    }\n",
       "\n",
       "    .dataframe tbody tr th {\n",
       "        vertical-align: top;\n",
       "    }\n",
       "\n",
       "    .dataframe thead th {\n",
       "        text-align: right;\n",
       "    }\n",
       "</style>\n",
       "<table border=\"1\" class=\"dataframe\">\n",
       "  <thead>\n",
       "    <tr style=\"text-align: right;\">\n",
       "      <th></th>\n",
       "      <th>gt</th>\n",
       "      <th>alg_1</th>\n",
       "      <th>alg_2</th>\n",
       "      <th>alg_3</th>\n",
       "      <th>alg_4</th>\n",
       "    </tr>\n",
       "  </thead>\n",
       "  <tbody>\n",
       "    <tr>\n",
       "      <th>0</th>\n",
       "      <td>0</td>\n",
       "      <td>0.051302</td>\n",
       "      <td>0.000000</td>\n",
       "      <td>0.821882</td>\n",
       "      <td>0.705028</td>\n",
       "    </tr>\n",
       "    <tr>\n",
       "      <th>1</th>\n",
       "      <td>0</td>\n",
       "      <td>0.695441</td>\n",
       "      <td>1.000000</td>\n",
       "      <td>1.000000</td>\n",
       "      <td>0.741789</td>\n",
       "    </tr>\n",
       "    <tr>\n",
       "      <th>2</th>\n",
       "      <td>1</td>\n",
       "      <td>0.471121</td>\n",
       "      <td>0.913034</td>\n",
       "      <td>0.000000</td>\n",
       "      <td>1.000000</td>\n",
       "    </tr>\n",
       "    <tr>\n",
       "      <th>3</th>\n",
       "      <td>1</td>\n",
       "      <td>1.000000</td>\n",
       "      <td>1.000000</td>\n",
       "      <td>0.000000</td>\n",
       "      <td>1.000000</td>\n",
       "    </tr>\n",
       "    <tr>\n",
       "      <th>4</th>\n",
       "      <td>0</td>\n",
       "      <td>0.857339</td>\n",
       "      <td>0.000000</td>\n",
       "      <td>0.296797</td>\n",
       "      <td>0.809736</td>\n",
       "    </tr>\n",
       "  </tbody>\n",
       "</table>\n",
       "</div>"
      ],
      "text/plain": [
       "   gt     alg_1     alg_2     alg_3     alg_4\n",
       "0   0  0.051302  0.000000  0.821882  0.705028\n",
       "1   0  0.695441  1.000000  1.000000  0.741789\n",
       "2   1  0.471121  0.913034  0.000000  1.000000\n",
       "3   1  1.000000  1.000000  0.000000  1.000000\n",
       "4   0  0.857339  0.000000  0.296797  0.809736"
      ]
     },
     "execution_count": 45,
     "metadata": {},
     "output_type": "execute_result"
    }
   ],
   "source": [
    "data_path3 = os.path.join(os.getcwd(),'data','classification_eval_1.csv')\n",
    "eval = pd.read_csv(data_path3, delimiter = ',')\n",
    "eval.head()"
   ]
  },
  {
   "cell_type": "code",
   "execution_count": 46,
   "metadata": {},
   "outputs": [
    {
     "name": "stdout",
     "output_type": "stream",
     "text": [
      "0.616\n",
      "0.55\n",
      "0.321\n",
      "0.329\n"
     ]
    }
   ],
   "source": [
    "gt=eval['gt']\n",
    "alg1=np.rint(eval['alg_1'])\n",
    "alg2=np.rint(eval['alg_2'])\n",
    "alg3=np.rint(eval['alg_3'])\n",
    "alg4=np.rint(eval['alg_4'])\n",
    "print(accuracy_score(gt, alg1))\n",
    "print(accuracy_score(gt, alg2))\n",
    "print(accuracy_score(gt, alg3))\n",
    "print(accuracy_score(gt, alg4))\n"
   ]
  },
  {
   "cell_type": "markdown",
   "metadata": {},
   "source": [
    "a)#alg_1 is the best model according to this metric."
   ]
  },
  {
   "cell_type": "code",
   "execution_count": 47,
   "metadata": {},
   "outputs": [],
   "source": [
    "g1=eval['alg_1']\n",
    "g2=eval['alg_2']\n",
    "g3=eval['alg_3']\n",
    "g4=eval['alg_4']\n",
    "AUC1=roc_auc_score(gt,g1)\n",
    "AUC2=roc_auc_score(gt,g2)\n",
    "AUC3=roc_auc_score(gt,g3)\n",
    "AUC4=roc_auc_score(gt,g4)"
   ]
  },
  {
   "cell_type": "code",
   "execution_count": 48,
   "metadata": {},
   "outputs": [
    {
     "name": "stdout",
     "output_type": "stream",
     "text": [
      "0.7320932281198045\n",
      "0.6316285763914737\n",
      "0.06395009801732053\n",
      "0.8473876522990644\n"
     ]
    }
   ],
   "source": [
    "print(AUC1)\n",
    "print(AUC2)\n",
    "print(AUC3)\n",
    "print(AUC4)"
   ]
  },
  {
   "cell_type": "markdown",
   "metadata": {},
   "source": [
    "no"
   ]
  },
  {
   "cell_type": "code",
   "execution_count": 49,
   "metadata": {},
   "outputs": [],
   "source": [
    "fpr1, tpr1, thresholds1 = roc_curve(gt, g1, pos_label=1)\n",
    "fpr2, tpr2, thresholds1 = roc_curve(gt, g2, pos_label=1)\n",
    "fpr3, tpr3, thresholds1 = roc_curve(gt, g3, pos_label=1)\n",
    "fpr4, tpr4, thresholds1 = roc_curve(gt, g4, pos_label=1)\n",
    "roc_auc1 = auc(fpr1, tpr1)"
   ]
  },
  {
   "cell_type": "code",
   "execution_count": 57,
   "metadata": {},
   "outputs": [
    {
     "data": {
      "image/png": "[encoded data removed]",
      "text/plain": [
       "<Figure size 432x288 with 1 Axes>"
      ]
     },
     "metadata": {
      "needs_background": "light"
     },
     "output_type": "display_data"
    }
   ],
   "source": [
    "plt.figure()\n",
    "\n",
    "plt.plot(fpr1, tpr1,color='yellow',label='alg_1')\n",
    "plt.plot(fpr2, tpr2,color='blue',label='alg_2')\n",
    "\n",
    "plt.plot(fpr3, tpr3,color='red',label='alg_3')\n",
    "plt.plot(fpr4, tpr4,color='green',label='alg_4')\n",
    "\n",
    "plt.plot([0, 1], [0, 1], color='darkorange', linestyle='--')\n",
    "plt.xlabel('FPR')\n",
    "plt.ylabel('TPR')\n",
    "plt.title('ROC')\n",
    "plt.legend(loc=\"lower right\")\n",
    "plt.show()"
   ]
  },
  {
   "cell_type": "markdown",
   "metadata": {},
   "source": [
    "Question 5"
   ]
  },
  {
   "cell_type": "code",
   "execution_count": 51,
   "metadata": {},
   "outputs": [
    {
     "name": "stdout",
     "output_type": "stream",
     "text": [
      "0.9994708218806827\n"
     ]
    }
   ],
   "source": [
    "def entropy(num_T,num_F):\n",
    "    Pt=num_T/(num_T+num_F)\n",
    "    Pf=num_F/(num_T+num_F)\n",
    "    return -Pt*math.log(Pt,2)-Pf*math.log(Pf,2)\n",
    "T=np.sum(train_result==1)\n",
    "F=np.sum(train_result==0)\n",
    "H=entropy(T,F)\n",
    "print(H)"
   ]
  },
  {
   "cell_type": "code",
   "execution_count": 52,
   "metadata": {},
   "outputs": [
    {
     "name": "stdout",
     "output_type": "stream",
     "text": [
      "0.9994708218806827\n"
     ]
    }
   ],
   "source": [
    "print(H)"
   ]
  },
  {
   "cell_type": "code",
   "execution_count": 53,
   "metadata": {},
   "outputs": [
    {
     "name": "stdout",
     "output_type": "stream",
     "text": [
      "(2465,)\n",
      "(2335,)\n"
     ]
    }
   ],
   "source": [
    "x48_T=train_T[:,96]\n",
    "x48_F=train_F[:,96]\n",
    "print(x48_F.shape)\n",
    "print(x48_T.shape)"
   ]
  },
  {
   "cell_type": "code",
   "execution_count": 54,
   "metadata": {},
   "outputs": [
    {
     "data": {
      "image/png": "[encoded data removed]",
      "text/plain": [
       "<Figure size 432x288 with 1 Axes>"
      ]
     },
     "metadata": {
      "needs_background": "light"
     },
     "output_type": "display_data"
    },
    {
     "data": {
      "image/png": "[encoded data removed]",
      "text/plain": [
       "<Figure size 432x288 with 1 Axes>"
      ]
     },
     "metadata": {
      "needs_background": "light"
     },
     "output_type": "display_data"
    }
   ],
   "source": [
    "#T=np.arange(2335)\n",
    "#F=np.arange(2465)\n",
    "a=plt.hist(x48_T, 100,facecolor='darkorange')\n",
    "plt.xlabel('x_48_value')\n",
    "plt.ylabel('number')\n",
    "plt.title('x_48_Ture histogram with 100 bins')\n",
    "plt.show()\n",
    "b=plt.hist(x48_F,100,facecolor='blue')\n",
    "plt.xlabel('x_48_value')\n",
    "plt.ylabel('number')\n",
    "plt.title('x_48_False histogram with 100 bins')\n",
    "plt.show()"
   ]
  },
  {
   "cell_type": "code",
   "execution_count": 55,
   "metadata": {},
   "outputs": [
    {
     "name": "stdout",
     "output_type": "stream",
     "text": [
      "3316\n",
      "1484\n",
      "0.9816332033571105\n",
      "0.8531266817126126\n",
      "0.05756755146532955\n",
      "1307\n",
      "3493\n",
      "0.7649719900289214\n",
      "0.9563382433490135\n",
      "0.09524001459195264\n"
     ]
    }
   ],
   "source": [
    "entr_x48=entropy(2335,2465)\n",
    "\n",
    "for t in [-0.7,-0.9]:\n",
    "    left_T=x48_T[x48_T<=t]\n",
    "    right_T=x48_T[x48_T>t]\n",
    "    left_F=x48_F[x48_F<=t]\n",
    "    right_F=x48_F[x48_F>t]\n",
    "    \n",
    "    num_left_T=left_T.shape[0]\n",
    "    num_left_F=left_F.shape[0]\n",
    "    num_right_T=right_T.shape[0]\n",
    "    num_right_F=right_F.shape[0]\n",
    "    '''\n",
    "    print(num_left_T)\n",
    "    print(num_left_F)\n",
    "    print(num_right_T)\n",
    "    print(num_right_F)\n",
    "    '''\n",
    "    num_left=num_left_T+num_left_F\n",
    "    num_right=num_right_T+num_right_F\n",
    "    \n",
    "    print(num_left)\n",
    "    print(num_right)\n",
    "    entr_left=entropy(num_left_T,num_left_F)\n",
    "    entr_right=entropy(num_right_T,num_right_F)\n",
    "    \n",
    "    print(entr_left)\n",
    "    print(entr_right)\n",
    "    \n",
    "    Inf_gain=entr_x48-(num_left/(num_left+num_right)*entr_left+\\\n",
    "                   num_right/(num_left+num_right)*entr_right)\n",
    "    print(Inf_gain)"
   ]
  },
  {
   "cell_type": "code",
   "execution_count": 56,
   "metadata": {},
   "outputs": [
    {
     "name": "stdout",
     "output_type": "stream",
     "text": [
      "0.7592757847892833\n"
     ]
    }
   ],
   "source": [
    "entro1=entropy(18,64)\n",
    "print(entro1)"
   ]
  },
  {
   "cell_type": "code",
   "execution_count": null,
   "metadata": {},
   "outputs": [],
   "source": []
  },
  {
   "cell_type": "code",
   "execution_count": null,
   "metadata": {},
   "outputs": [],
   "source": []
  },
  {
   "cell_type": "code",
   "execution_count": null,
   "metadata": {},
   "outputs": [],
   "source": []
  },
  {
   "cell_type": "code",
   "execution_count": null,
   "metadata": {},
   "outputs": [],
   "source": []
  },
  {
   "cell_type": "code",
   "execution_count": null,
   "metadata": {},
   "outputs": [],
   "source": []
  }
 ],
 "metadata": {
  "kernelspec": {
   "display_name": "Python 3",
   "language": "python",
   "name": "python3"
  },
  "language_info": {
   "codemirror_mode": {
    "name": "ipython",
    "version": 3
   },
   "file_extension": ".py",
   "mimetype": "text/x-python",
   "name": "python",
   "nbconvert_exporter": "python",
   "pygments_lexer": "ipython3",
   "version": "3.7.7"
  }
 },
 "nbformat": 4,
 "nbformat_minor": 4
}
