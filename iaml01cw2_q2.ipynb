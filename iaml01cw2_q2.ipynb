{
 "cells": [
  {
   "cell_type": "code",
   "execution_count": 2,
   "metadata": {},
   "outputs": [
    {
     "name": "stderr",
     "output_type": "stream",
     "text": [
      "/Users/lainuolin/anaconda2/envs/py3iaml/lib/python3.7/site-packages/sklearn/utils/__init__.py:4: DeprecationWarning: Using or importing the ABCs from 'collections' instead of from 'collections.abc' is deprecated since Python 3.3,and in 3.9 it will stop working\n",
      "  from collections import Sequence\n",
      "/Users/lainuolin/anaconda2/envs/py3iaml/lib/python3.7/site-packages/sklearn/model_selection/_split.py:18: DeprecationWarning: Using or importing the ABCs from 'collections' instead of from 'collections.abc' is deprecated since Python 3.3,and in 3.9 it will stop working\n",
      "  from collections import Iterable\n",
      "/Users/lainuolin/anaconda2/envs/py3iaml/lib/python3.7/site-packages/sklearn/model_selection/_search.py:16: DeprecationWarning: Using or importing the ABCs from 'collections' instead of from 'collections.abc' is deprecated since Python 3.3,and in 3.9 it will stop working\n",
      "  from collections import Mapping, namedtuple, defaultdict, Sequence\n"
     ]
    }
   ],
   "source": [
    "import iaml01cw2_helpers\n",
    "import iaml01cw2_my_helpers\n",
    "import numpy as np\n",
    "from sklearn.decomposition import PCA\n",
    "from sklearn.metrics import mean_squared_error\n",
    "from math import sqrt\n",
    "import math\n",
    "from sklearn.linear_model import LogisticRegression\n",
    "from sklearn.metrics import confusion_matrix\n",
    "from sklearn.svm import SVC\n",
    "from sklearn.model_selection import cross_val_score\n",
    "import matplotlib.pyplot as plt"
   ]
  },
  {
   "cell_type": "code",
   "execution_count": 6,
   "metadata": {},
   "outputs": [],
   "source": [
    "Xtrn, Ytrn, Xtst, Ytst = iaml01cw2_helpers.load_FashionMNIST('data')\n",
    "X_mean, Xtrn_nm, Xtst_nm = iaml01cw2_my_helpers.preprocessing(Xtrn, Ytrn, Xtst, Ytst)"
   ]
  },
  {
   "cell_type": "code",
   "execution_count": 7,
   "metadata": {},
   "outputs": [
    {
     "name": "stdout",
     "output_type": "stream",
     "text": [
      "0.8401\n",
      "[[819   3  15  50   7   4  89   1  12   0]\n",
      " [  5 953   4  27   5   0   3   1   2   0]\n",
      " [ 27   4 731  11 133   0  82   2   9   1]\n",
      " [ 31  15  14 866  33   0  37   0   4   0]\n",
      " [  0   3 115  38 760   2  72   0  10   0]\n",
      " [  2   0   0   1   0 911   0  56  10  20]\n",
      " [147   3 128  46 108   0 539   0  28   1]\n",
      " [  0   0   0   0   0  32   0 936   1  31]\n",
      " [  7   1   6  11   3   7  15   5 945   0]\n",
      " [  0   0   0   1   0  15   1  42   0 941]]\n"
     ]
    }
   ],
   "source": [
    "# Q2.1\n",
    "def iaml01cw2_q2_1(Xtrn_nm,Ytrn,Xtst_nm,Ytst):\n",
    "    mlr= LogisticRegression().fit(Xtrn_nm,Ytrn)\n",
    "    accuracy=mlr.score(Xtst_nm,Ytst)\n",
    "    Ytst_pred=mlr.predict(Xtst_nm)\n",
    "    c_m=confusion_matrix(Ytst,Ytst_pred)\n",
    "    return mlr,accuracy,c_m\n",
    "mlr,accuracy,c_m=iaml01cw2_q2_1(Xtrn_nm,Ytrn,Xtst_nm,Ytst)\n",
    "print(accuracy)\n",
    "print(c_m)"
   ]
  },
  {
   "cell_type": "code",
   "execution_count": 8,
   "metadata": {},
   "outputs": [
    {
     "name": "stdout",
     "output_type": "stream",
     "text": [
      "0.8461\n",
      "[[845   2   8  51   4   4  72   0  14   0]\n",
      " [  4 951   7  31   5   0   1   0   1   0]\n",
      " [ 15   2 748  11 137   0  79   0   8   0]\n",
      " [ 32   6  12 881  26   0  40   0   3   0]\n",
      " [  1   0  98  36 775   0  86   0   4   0]\n",
      " [  0   0   0   1   0 914   0  57   2  26]\n",
      " [185   1 122  39  95   0 533   0  25   0]\n",
      " [  0   0   0   0   0  34   0 925   0  41]\n",
      " [  3   1   8   5   2   4  13   4 959   1]\n",
      " [  0   0   0   0   0  22   0  47   1 930]]\n"
     ]
    }
   ],
   "source": [
    "# Q2.2\n",
    "def iaml01cw2_q2_2(Xtrn_nm,Ytrn,Xtst_nm,Ytst):\n",
    "    msvc=SVC(gamma='auto').fit(Xtrn_nm,Ytrn)\n",
    "    accuracy_svc=msvc.score(Xtst_nm,Ytst)\n",
    "    Ytst_pred_svc=msvc.predict(Xtst_nm)\n",
    "    c_msvc=confusion_matrix(Ytst,Ytst_pred_svc)\n",
    "    return msvc,accuracy_svc,c_msvc\n",
    "msvc,accuracy_svc,c_msvc=iaml01cw2_q2_2(Xtrn_nm,Ytrn,Xtst_nm,Ytst)\n",
    "print(accuracy_svc)\n",
    "print(c_msvc)"
   ]
  },
  {
   "cell_type": "code",
   "execution_count": 38,
   "metadata": {},
   "outputs": [
    {
     "data": {
      "image/png": "[encoded data removed]",
      "text/plain": [
       "<Figure size 432x288 with 2 Axes>"
      ]
     },
     "metadata": {
      "needs_background": "light"
     },
     "output_type": "display_data"
    }
   ],
   "source": [
    "# Q2.3\n",
    "def iaml01cw2_q2_3(Xtrn_nm):\n",
    "    pca=PCA(n_components=2).fit(Xtrn_nm)\n",
    "    Xtrn_nm_2D=pca.transform(Xtrn_nm)\n",
    "    x1=Xtrn_nm_2D[:,0]\n",
    "    x2=Xtrn_nm_2D[:,1]\n",
    "    sigma1=np.std(x1,axis=0)\n",
    "    sigma2=np.std(x2,axis=0)\n",
    "    x=np.array(np.linspace(-5*sigma1,5*sigma1,100))\n",
    "    y=np.array(np.linspace(-5*sigma2,5*sigma2,100))\n",
    "    X,Y=np.meshgrid(x,y)\n",
    "    x_2d=np.vstack((x,y)).T\n",
    "    inverse_data=pca.inverse_transform(np.vstack((X.ravel(),Y.ravel())).T)\n",
    "    mlr_pred=mlr.predict(inverse_data)\n",
    "    Z=mlr_pred.reshape(X.shape)\n",
    "    plt.figure()\n",
    "    plt.contourf(X,Y,Z,cmap='coolwarm',levels=np.linspace(-1,8,10))\n",
    "    plt.title('decision regions for logistic regression')\n",
    "    plt.ylabel('dimension 2')\n",
    "    plt.xlabel('dimension 1')\n",
    "    plt.colorbar().set_ticks(np.linspace(-1,8,10))\n",
    "    plt.show()\n",
    "    return X,Y,inverse_data\n",
    "X,Y,inverse_data=iaml01cw2_q2_3(Xtrn_nm)\n",
    "#Only 8 class in this decision region, which mean that not all the class in PCA 2D space plane\n",
    "#in this space plane, 5 class can be classified by decision boundary clearly.3 classes have litte place in this plane"
   ]
  },
  {
   "cell_type": "code",
   "execution_count": 33,
   "metadata": {},
   "outputs": [
    {
     "data": {
      "image/png": "[encoded data removed]",
      "text/plain": [
       "<Figure size 432x288 with 2 Axes>"
      ]
     },
     "metadata": {
      "needs_background": "light"
     },
     "output_type": "display_data"
    }
   ],
   "source": [
    "# Q2.4\n",
    "def iaml01cw2_q2_4(X,Y,inverse_data):\n",
    "    msvc_pred=msvc.predict(inverse_data)\n",
    "    Z2=msvc_pred.reshape(X.shape)\n",
    "    plt.figure()\n",
    "    plt.contourf(X,Y,Z2,cmap='coolwarm',levels=np.linspace(-1,9,11))\n",
    "    plt.title('decision regions for SVC')\n",
    "    plt.ylabel('dimension 2')\n",
    "    plt.xlabel('dimension 1')\n",
    "    plt.colorbar().set_ticks(np.linspace(-1,9,11))\n",
    "    plt.show()\n",
    "iaml01cw2_q2_4(X,Y,inverse_data)"
   ]
  },
  {
   "cell_type": "code",
   "execution_count": 35,
   "metadata": {},
   "outputs": [
    {
     "name": "stdout",
     "output_type": "stream",
     "text": [
      "21.544346900318846\n",
      "0.8455970941000882\n"
     ]
    },
    {
     "data": {
      "image/png": "[encoded data removed]",
      "text/plain": [
       "<Figure size 432x288 with 1 Axes>"
      ]
     },
     "metadata": {
      "needs_background": "light"
     },
     "output_type": "display_data"
    }
   ],
   "source": [
    "# Q2.5\n",
    "def iaml01cw2_q2_5(Xtrn_nm,Ytrn,Xtst_nm,Ytst):\n",
    "    XYsmall=[]\n",
    "    XYtrn_nm=np.c_[Xtrn_nm,Ytrn]\n",
    "    for a in np.arange(0,10,1):\n",
    "        c=XYtrn_nm[np.where(Ytrn==a)]\n",
    "        c=c[0:1000,:]\n",
    "        XYsmall.append(c)\n",
    "    XYsmall=np.array(XYsmall).ravel().reshape(10000,785)\n",
    "    Xsmall=XYsmall[:,0:783]\n",
    "    Ysmall=XYsmall[:,784]\n",
    "    accu=[]\n",
    "    n=np.logspace(-2,3,10)\n",
    "    for d in n:\n",
    "        svc=SVC(C=d,gamma='auto').fit(Xsmall,Ysmall)\n",
    "        accu_svc=cross_val_score(svc,Xtst_nm,Ytst,cv=3)\n",
    "        accu.append(accu_svc)\n",
    "    mean_accu=np.array(accu).mean(axis=1)\n",
    "    plt.plot(n,mean_accu)\n",
    "    plt.xscale('log')\n",
    "    plt.scatter(n,mean_accu,c='red')\n",
    "    plt.xscale('log')\n",
    "    plt.title('decision regions for logistic regression')\n",
    "    plt.ylabel('corss validation score')\n",
    "    plt.xlabel('Penalty parameter C')\n",
    "    C_max=n[np.argmax(mean_accu)]\n",
    "    print(C_max)\n",
    "    Accu_max=np.max(mean_accu)\n",
    "    print(Accu_max)\n",
    "    return C_max,Accu_max\n",
    "C_max,Accu_max=iaml01cw2_q2_5(Xtrn_nm,Ytrn,Xtst_nm,Ytst)"
   ]
  },
  {
   "cell_type": "code",
   "execution_count": 34,
   "metadata": {},
   "outputs": [
    {
     "data": {
      "text/plain": [
       "21.544346900318846"
      ]
     },
     "execution_count": 34,
     "metadata": {},
     "output_type": "execute_result"
    }
   ],
   "source": [
    "C_max"
   ]
  },
  {
   "cell_type": "code",
   "execution_count": 27,
   "metadata": {},
   "outputs": [
    {
     "name": "stdout",
     "output_type": "stream",
     "text": [
      "0.9084166666666667 0.8765\n"
     ]
    }
   ],
   "source": [
    "# Q2.6\n",
    "def iaml01cw2_q2_6(C_max,Xtrn_nm,Ytrn):\n",
    "    osvc=SVC(C=C_max,gamma='auto').fit(Xtrn_nm,Ytrn)\n",
    "    accu_osvc_trn=osvc.score(Xtrn_nm,Ytrn)\n",
    "    accu_osvc_tst=osvc.score(Xtst_nm,Ytst)\n",
    "    print(accu_osvc_trn,accu_osvc_tst)\n",
    "iaml01cw2_q2_6(C_max,Xtrn_nm,Ytrn)"
   ]
  },
  {
   "cell_type": "code",
   "execution_count": null,
   "metadata": {},
   "outputs": [],
   "source": []
  }
 ],
 "metadata": {
  "kernelspec": {
   "display_name": "Python 3",
   "language": "python",
   "name": "python3"
  },
  "language_info": {
   "codemirror_mode": {
    "name": "ipython",
    "version": 3
   },
   "file_extension": ".py",
   "mimetype": "text/x-python",
   "name": "python",
   "nbconvert_exporter": "python",
   "pygments_lexer": "ipython3",
   "version": "3.7.7"
  }
 },
 "nbformat": 4,
 "nbformat_minor": 4
}
